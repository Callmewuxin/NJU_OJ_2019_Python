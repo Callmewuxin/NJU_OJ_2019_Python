{
 "cells": [
  {
   "cell_type": "markdown",
   "metadata": {},
   "source": [
    "+ 排序（讲的最多的排序算法）\n",
    "+ 字符串\n",
    "+ 动态规划\n",
    "+ 贪心"
   ]
  },
  {
   "cell_type": "markdown",
   "metadata": {},
   "source": [
    "# 对称子字符串\n",
    "## Description \n",
    "Given a string ‘str’ of digits, find length of the longest substring of ‘str’, such that the length of the substring is 2k digits and sum of left k digits is equal to the sum of right k digits.\n",
    "\n",
    "## Input\n",
    "输入第一行是测试用例的个数，后面每一行表示一个数字组成的字符串，例如：\"123123\"\n",
    "\n",
    "## Output\n",
    "输出找到的满足要求的最长子串的长度。例如，给定的例子长度应该是 6。每行对应一个用例的结果。"
   ]
  },
  {
   "cell_type": "code",
   "execution_count": 17,
   "metadata": {},
   "outputs": [
    {
     "name": "stdout",
     "output_type": "stream",
     "text": [
      "2\n",
      "11\n",
      "2\n",
      "11\n",
      "2\n"
     ]
    }
   ],
   "source": [
    "def isEqual(s):\n",
    "    n = len(s)\n",
    "    l = [int(t) for t in s]\n",
    "    if (sum(l[:n//2]) == sum(l[n//2:])):\n",
    "        return True\n",
    "    else:\n",
    "        return False\n",
    "t = int(input())\n",
    "for tt in range(t):\n",
    "    s = input()\n",
    "    n = len(s)\n",
    "    m = 0\n",
    "    for i in range(n):\n",
    "        for length in range(2, n+1, 2):\n",
    "            if i+length<=n:\n",
    "                if isEqual(s[i:i+length]):\n",
    "                    m = max(m, length)\n",
    "    print(m)"
   ]
  },
  {
   "cell_type": "code",
   "execution_count": 13,
   "metadata": {},
   "outputs": [
    {
     "name": "stdout",
     "output_type": "stream",
     "text": [
      "2\n",
      "3\n",
      "3\n",
      "10\n",
      "2\n"
     ]
    }
   ],
   "source": [
    "def GetChar(q):\n",
    "    g_str = ['1', '2', '3', '4', '5', '$', '5', '4', '3', '2', '1']\n",
    "\n",
    "    while q > len(g_str):\n",
    "\n",
    "        m, itr = GetValues(q)\n",
    "\n",
    "        val = int(((m - itr) / 2) + itr)\n",
    "        print(\"q=\", q, \"val=\", val)\n",
    "        if (q <= val):\n",
    "            q = 6\n",
    "            break\n",
    "        q -= val\n",
    "    if (q > 0):\n",
    "        return g_str[q - 1]\n",
    "    return \"\"\n",
    "\n",
    "\n",
    "def GetValues(q):\n",
    "    size = 5\n",
    "    itr = 0\n",
    "\n",
    "    while True:\n",
    "        if (q <= size):\n",
    "            return (size, itr)\n",
    "        itr += 1\n",
    "        size = (size * 2) + itr\n",
    "        print(size, itr)\n",
    "\n",
    "\n",
    "T = int(input())\n",
    "\n",
    "for i in range(0, T):\n",
    "    q = int(input())\n",
    "    print(GetChar(q))"
   ]
  },
  {
   "cell_type": "markdown",
   "metadata": {},
   "source": [
    "# 整除查询\n",
    "## Description\n",
    "Given an array of positive integers and many queries for divisibility. In every query Q[i], we are given an integer K , we need to count all elements in the array which are perfectly divisible by K.\n",
    "\n",
    "Constraints:1<=T<=1001<=N,M<=1051<=A[i],Q[i]<=105\n",
    "## Input\n",
    "The first line of input contains an integer T denoting the number of test cases. Then T test cases follow. Each test case consists of three lines. First line of each test case contains two integers N & M, second line contains N space separated array elements and third line contains M space separated queries.\n",
    "## Output\n",
    "For each test case,In new line print the required count for each query Q[i].\n",
    "## Sample Input\n",
    "2  \n",
    "6 3  \n",
    "2 4 9 15 21 20  \n",
    "2 3 5  \n",
    "3 2  \n",
    "3 4 6  \n",
    "2 3  \n",
    "## Sample Output\n",
    "3 3 2    \n",
    "2 2"
   ]
  },
  {
   "cell_type": "code",
   "execution_count": 1,
   "metadata": {},
   "outputs": [
    {
     "name": "stdout",
     "output_type": "stream",
     "text": [
      "6\n",
      "6 3\n",
      "2 4 9 15 21 20\n",
      "2 3 5\n",
      "[3, 3, 2]\n",
      "3 3 2\n",
      "3 2\n",
      "3 4 6\n",
      "2 3\n",
      "[2, 2]\n",
      "2 2\n",
      "1\n"
     ]
    },
    {
     "ename": "ValueError",
     "evalue": "not enough values to unpack (expected 2, got 1)",
     "output_type": "error",
     "traceback": [
      "\u001b[1;31m---------------------------------------------------------------------------\u001b[0m",
      "\u001b[1;31mValueError\u001b[0m                                Traceback (most recent call last)",
      "\u001b[1;32m<ipython-input-1-0e4575e74be2>\u001b[0m in \u001b[0;36m<module>\u001b[1;34m\u001b[0m\n\u001b[0;32m      8\u001b[0m \u001b[0mt\u001b[0m \u001b[1;33m=\u001b[0m \u001b[0mint\u001b[0m\u001b[1;33m(\u001b[0m\u001b[0minput\u001b[0m\u001b[1;33m(\u001b[0m\u001b[1;33m)\u001b[0m\u001b[1;33m)\u001b[0m\u001b[1;33m\u001b[0m\u001b[1;33m\u001b[0m\u001b[0m\n\u001b[0;32m      9\u001b[0m \u001b[1;32mfor\u001b[0m \u001b[0mtt\u001b[0m \u001b[1;32min\u001b[0m \u001b[0mrange\u001b[0m\u001b[1;33m(\u001b[0m\u001b[0mt\u001b[0m\u001b[1;33m)\u001b[0m\u001b[1;33m:\u001b[0m\u001b[1;33m\u001b[0m\u001b[1;33m\u001b[0m\u001b[0m\n\u001b[1;32m---> 10\u001b[1;33m     \u001b[0mn\u001b[0m\u001b[1;33m,\u001b[0m \u001b[0mm\u001b[0m \u001b[1;33m=\u001b[0m \u001b[0mlist\u001b[0m\u001b[1;33m(\u001b[0m\u001b[0mmap\u001b[0m\u001b[1;33m(\u001b[0m\u001b[0mint\u001b[0m\u001b[1;33m,\u001b[0m \u001b[0minput\u001b[0m\u001b[1;33m(\u001b[0m\u001b[1;33m)\u001b[0m\u001b[1;33m.\u001b[0m\u001b[0msplit\u001b[0m\u001b[1;33m(\u001b[0m\u001b[1;33m)\u001b[0m\u001b[1;33m)\u001b[0m\u001b[1;33m)\u001b[0m\u001b[1;33m\u001b[0m\u001b[1;33m\u001b[0m\u001b[0m\n\u001b[0m\u001b[0;32m     11\u001b[0m     \u001b[0marr\u001b[0m \u001b[1;33m=\u001b[0m \u001b[0mlist\u001b[0m\u001b[1;33m(\u001b[0m\u001b[0mmap\u001b[0m\u001b[1;33m(\u001b[0m\u001b[0mint\u001b[0m\u001b[1;33m,\u001b[0m \u001b[0minput\u001b[0m\u001b[1;33m(\u001b[0m\u001b[1;33m)\u001b[0m\u001b[1;33m.\u001b[0m\u001b[0msplit\u001b[0m\u001b[1;33m(\u001b[0m\u001b[1;33m)\u001b[0m\u001b[1;33m)\u001b[0m\u001b[1;33m)\u001b[0m\u001b[1;33m\u001b[0m\u001b[1;33m\u001b[0m\u001b[0m\n\u001b[0;32m     12\u001b[0m     \u001b[0mq\u001b[0m \u001b[1;33m=\u001b[0m \u001b[0mlist\u001b[0m\u001b[1;33m(\u001b[0m\u001b[0mmap\u001b[0m\u001b[1;33m(\u001b[0m\u001b[0mint\u001b[0m\u001b[1;33m,\u001b[0m \u001b[0minput\u001b[0m\u001b[1;33m(\u001b[0m\u001b[1;33m)\u001b[0m\u001b[1;33m.\u001b[0m\u001b[0msplit\u001b[0m\u001b[1;33m(\u001b[0m\u001b[1;33m)\u001b[0m\u001b[1;33m)\u001b[0m\u001b[1;33m)\u001b[0m\u001b[1;33m\u001b[0m\u001b[1;33m\u001b[0m\u001b[0m\n",
      "\u001b[1;31mValueError\u001b[0m: not enough values to unpack (expected 2, got 1)"
     ]
    }
   ],
   "source": [
    "def countDiv(arr, k):\n",
    "    cnt = 0\n",
    "    for t in arr:\n",
    "        if t%k == 0:\n",
    "            cnt = cnt + 1\n",
    "    return cnt\n",
    "\n",
    "t = int(input())\n",
    "for tt in range(t):\n",
    "    n, m = list(map(int, input().split()))\n",
    "    arr = list(map(int, input().split()))\n",
    "    q = list(map(int, input().split()))\n",
    "    res = []\n",
    "    for qq in q:\n",
    "        res.append(countDiv(arr, qq))\n",
    "    res = [str(t) for t in res]\n",
    "    print(\" \".join(res))"
   ]
  },
  {
   "cell_type": "markdown",
   "metadata": {},
   "source": [
    "# 数学公式(快速幂)\n",
    "## Description\n",
    "Implement pow(A, B) % C.In other words, given A, B and C, find (A^B)%C\n",
    "## Input\n",
    "The first line of input consists number of the test cases. The following T lines consist of 3 numbers each separated by a space and in the following order:A B C'A' being the base number, 'B' the exponent (power to the base number) and 'C' the modular.Constraints:1 ≤ T ≤ 70,1 ≤ A ≤ 10^5,1 ≤ B ≤ 10^5,1 ≤ C ≤ 10^5\n",
    "## Output\n",
    "In each separate line print the modular exponent of the given numbers in the test case.\n",
    "## Sample Input\n",
    "3  \n",
    "3 2 4  \n",
    "10 9 6  \n",
    "450 768 517  \n",
    "## Sample Output\n",
    "1  \n",
    "4  \n",
    "34  "
   ]
  },
  {
   "cell_type": "code",
   "execution_count": 10,
   "metadata": {},
   "outputs": [
    {
     "name": "stdout",
     "output_type": "stream",
     "text": [
      "3\n",
      "3 2 4\n",
      "1\n",
      "10 9 6\n",
      "4\n",
      "450 768 517\n",
      "34\n"
     ]
    }
   ],
   "source": [
    "def bigpow(a, b, c):\n",
    "    ans = 1\n",
    "    while b:\n",
    "        \n",
    "        if b%2 == 1:\n",
    "            ans = (ans * a)%c\n",
    "        b>>=1\n",
    "        a = (a*a)%c\n",
    "    return ans\n",
    "t = int(input())\n",
    "for tt in range(t):\n",
    "    a, b, c = list(map(int, input().split()))\n",
    "    print(bigpow(a, b, c))\n"
   ]
  },
  {
   "cell_type": "markdown",
   "metadata": {},
   "source": [
    "# 序号乘方\n",
    "1^2 + 2^2 + ... + n^2 = n*(n+1)*(2*n+1)/6"
   ]
  },
  {
   "cell_type": "code",
   "execution_count": null,
   "metadata": {},
   "outputs": [],
   "source": [
    "t = int(input())\n",
    "for tt in range(t):\n",
    "    p = int(input())\n",
    "    t = int(pow(p, 1/3))\n",
    "    while 1:\n",
    "        if t*(t+1)*(2*t+1)/6 > p:\n",
    "            break\n",
    "        t =  t + 1\n",
    "    print(t-1)"
   ]
  },
  {
   "cell_type": "markdown",
   "metadata": {},
   "source": [
    "# 漆狗屋（二分查找）\n",
    "## Description\n",
    "\n",
    "Dilpreet wants to paint his dog- Buzo's home that has n boards with different lengths[A1, A2,..., An]. He hired k painters for this work and each painter takes 1 unit time to paint 1 unit of the board.The problem is to find the minimum time to get this job done under the constraints that any painter will only paint continuous sections of boards, say board {2, 3, 4} or only board {1} or nothing but not board {2, 4, 5}.\n",
    "\n",
    "Constraints:1<=T<=100,1<=k<=30,1<=n<=50,1<=A[i]<=500\n",
    "\n",
    "\n",
    "## Input\n",
    "\n",
    "The first line consists of a single integer T, the number of test cases. For each test case, the first line contains an integer k denoting the number of painters and integer n denoting the number of boards. Next line contains n- space separated integers denoting the size of boards.\n",
    "\n",
    "\n",
    "## Output\n",
    "\n",
    "For each test case, the output is an integer displaying the minimum time for painting that house.\n",
    "\n",
    "## Sample Input\n",
    "2  \n",
    "2 4  \n",
    "10 10 10 10  \n",
    "2 4  \n",
    "10 20 30 40  \n",
    "\n",
    "## Sample Output\n",
    "20  \n",
    "60  "
   ]
  },
  {
   "cell_type": "code",
   "execution_count": 11,
   "metadata": {},
   "outputs": [
    {
     "name": "stdout",
     "output_type": "stream",
     "text": [
      "2\n",
      "2 4\n",
      "10 10 10 10\n",
      "10 40 [10, 10, 10, 10] 2\n",
      "20\n",
      "2 4\n",
      "10 20 30 40\n",
      "40 100 [10, 20, 30, 40] 2\n",
      "60\n"
     ]
    }
   ],
   "source": [
    "def findNum(arr, volume):\n",
    "    s = 0\n",
    "    cnt = 1\n",
    "    for t in arr:\n",
    "        s+=t\n",
    "        if s>volume:\n",
    "            cnt =cnt + 1\n",
    "            s = t\n",
    "    return cnt\n",
    "\n",
    "def search(minv, maxv, arr, k):\n",
    "    if minv == maxv:\n",
    "        print(minv)\n",
    "        return\n",
    "    mid = (minv + maxv) // 2\n",
    "    if findNum(arr, mid)<=k:\n",
    "        search(minv, mid, arr, k)\n",
    "    else:\n",
    "        search(mid+1, maxv, arr, k)\n",
    "\n",
    "t = int(input())\n",
    "for tt in range(t):\n",
    "    k, n = list(map(int, input().split()))\n",
    "    arr = list(map(int, input().split()))\n",
    "    minv = max(arr)\n",
    "    maxv = sum(arr)\n",
    "    search(minv, maxv, arr, k)\n",
    "    "
   ]
  },
  {
   "cell_type": "markdown",
   "metadata": {},
   "source": [
    "## 书本分发(同上)"
   ]
  },
  {
   "cell_type": "code",
   "execution_count": 12,
   "metadata": {},
   "outputs": [
    {
     "name": "stdout",
     "output_type": "stream",
     "text": [
      "1\n",
      "4\n",
      "12 34 67 90\n",
      "2\n",
      "113\n"
     ]
    }
   ],
   "source": [
    "def findNum(arr, volume):\n",
    "    s = 0\n",
    "    cnt = 1\n",
    "    for t in arr:\n",
    "        s+=t\n",
    "        if s>volume:\n",
    "            cnt =cnt + 1\n",
    "            s = t\n",
    "    return cnt\n",
    "\n",
    "def search(minv, maxv, arr, k):\n",
    "    if minv == maxv:\n",
    "        print(minv)\n",
    "        return\n",
    "    mid = (minv + maxv) // 2\n",
    "    if findNum(arr, mid)<=k:\n",
    "        search(minv, mid, arr, k)\n",
    "    else:\n",
    "        search(mid+1, maxv, arr, k)\n",
    "\n",
    "t = int(input())\n",
    "for tt in range(t):\n",
    "    n = int(input())\n",
    "    arr = list(map(int, input().split()))\n",
    "    k = int(input())\n",
    "    minv = max(arr)\n",
    "    maxv = sum(arr)\n",
    "    search(minv, maxv, arr, k)\n",
    "    "
   ]
  },
  {
   "cell_type": "markdown",
   "metadata": {},
   "source": [
    "## 全排列寻找整除17的最大数 （0要考虑）"
   ]
  },
  {
   "cell_type": "code",
   "execution_count": 3,
   "metadata": {},
   "outputs": [
    {
     "name": "stdout",
     "output_type": "stream",
     "text": [
      "10\n",
      "0\n",
      "Not Possible\n",
      "0\n",
      "Not Possible\n",
      "1\n",
      "Not Possible\n",
      "2\n",
      "Not Possible\n",
      "3\n",
      "Not Possible\n",
      "4\n",
      "Not Possible\n",
      "5\n",
      "Not Possible\n",
      "6\n",
      "Not Possible\n",
      "07\n",
      "Not Possible\n",
      "09\n",
      "Not Possible\n"
     ]
    }
   ],
   "source": [
    "import itertools\n",
    "def get17(s):\n",
    "    n = len(s)\n",
    "    arr = list(itertools.permutations(s, n))\n",
    "    arr = [''.join(t) for t in arr]\n",
    "    arr = [int(t) for t in arr]\n",
    "    res = []\n",
    "    for t in arr:\n",
    "        if t %17 == 0:\n",
    "            res.append(t)\n",
    "    res = list(set(res))\n",
    "    return res\n",
    "\n",
    "t = int(input())\n",
    "for tt in range(t):\n",
    "    s = input()\n",
    "    res = get17(s)\n",
    "    if len(res) == 0 or s==\"0\":\n",
    "        print(\"Not Possible\")\n",
    "    else:\n",
    "        print(max(res))\n",
    "    "
   ]
  },
  {
   "cell_type": "markdown",
   "metadata": {},
   "source": [
    "## 按照另一个数组排序"
   ]
  },
  {
   "cell_type": "code",
   "execution_count": 20,
   "metadata": {},
   "outputs": [
    {
     "name": "stdout",
     "output_type": "stream",
     "text": [
      "1\n",
      "11 4\n",
      "2 1 2 5 7 1 9 3 6 8 8\n",
      "2 1 8 3\n",
      "2 2 1 1 8 8 3 5 6 7 9\n"
     ]
    }
   ],
   "source": [
    "def secondSort(arr1, arr2):\n",
    "    notin = []\n",
    "    res = []\n",
    "    for t in arr2:\n",
    "        cnt = arr1.count(t)\n",
    "        if cnt>0:\n",
    "            res += [t]*cnt\n",
    "            while cnt:\n",
    "                arr1.remove(t)\n",
    "                cnt = cnt -1\n",
    "    arr1.sort()\n",
    "    return res + arr1\n",
    "        \n",
    "            \n",
    "t = int(input())\n",
    "for tt in range(t):\n",
    "    n, m = list(input().split())\n",
    "    arr1 = list(input().split())\n",
    "    arr2 = list(input().split())\n",
    "    res = secondSort(arr1, arr2)\n",
    "    res = [str(t) for t in res]\n",
    "    print(\" \".join(res))"
   ]
  },
  {
   "cell_type": "markdown",
   "metadata": {},
   "source": [
    "# 距离问题\n",
    "找出N个点中曼哈顿距离与欧几里得相等的点对\n",
    "1. 找出x坐标相同的数， y坐标相同的数\n",
    "2. 两两配对"
   ]
  },
  {
   "cell_type": "code",
   "execution_count": 14,
   "metadata": {},
   "outputs": [
    {
     "name": "stdout",
     "output_type": "stream",
     "text": [
      "1\n",
      "5\n",
      "1 2\n",
      "1 3\n",
      "2 3\n",
      "3 4\n",
      "3 5\n",
      "3\n"
     ]
    }
   ],
   "source": [
    "import itertools\n",
    "from math import sqrt\n",
    "def getComb(n):\n",
    "    return n*(n-1)//2\n",
    "t = int(input())\n",
    "for tt in range(t):\n",
    "    n = int(input())\n",
    "    l = []\n",
    "    xx = {}\n",
    "    yy = {}\n",
    "    for i in range(n):\n",
    "        x, y = list(map(int, input().split()))\n",
    "        xx[x] = xx.get(x, 0) + 1\n",
    "        yy[y] = yy.get(y, 0) + 1\n",
    "    cnt = 0\n",
    "    for x in xx:\n",
    "        cnt+= getComb(xx[x])\n",
    "    for y in yy:\n",
    "        cnt += getComb(yy[y])\n",
    "    print(cnt)\n",
    "    "
   ]
  },
  {
   "cell_type": "markdown",
   "metadata": {},
   "source": [
    "# 字符串匹配问题\n",
    "## Description\n",
    "\n",
    "Given a text txt[0..n-1] and a pattern pat[0..m-1], write a function search(char pat[], char txt[]) that prints all occurrences of pat[] in txt[]. You may assume that n > m.\n",
    "\n",
    "\n",
    "## Input\n",
    "\n",
    "输入第一行是用例个数，后面一行表示一个用例；用例包括两部分，第一部分为给定文本，第二部分为搜索串，两部分使用\",\"隔开。\n",
    "\n",
    "\n",
    "## Output\n",
    "\n",
    "每一个用例输出一行，每行按照找到的位置先后顺序排列，使用空格隔开。\n",
    "\n",
    "## find(arr, s, st)"
   ]
  },
  {
   "cell_type": "code",
   "execution_count": 4,
   "metadata": {},
   "outputs": [
    {
     "name": "stdout",
     "output_type": "stream",
     "text": [
      "2\n",
      "THIS IS A TEST TEXT,TEST\n",
      "10\n",
      "AABAACAADAABAABA,AABA\n",
      "0 9 12\n"
     ]
    }
   ],
   "source": [
    "def search(arr, s):\n",
    "    i = 0\n",
    "    res = []\n",
    "    while True:\n",
    "        i = arr.find(s, i)\n",
    "        if i==-1:\n",
    "            break\n",
    "        else:\n",
    "            res.append(i)\n",
    "            i = i+1\n",
    "    return res\n",
    "\n",
    "T = int(input())\n",
    "for t in range(T):\n",
    "    arr, s = input().split(\",\")\n",
    "    res = search(arr, s)\n",
    "    res = [str(t) for t in res]\n",
    "    print(\" \".join(res))"
   ]
  },
  {
   "cell_type": "markdown",
   "metadata": {},
   "source": [
    "# 和最大的连续降序字符 （需要去重）"
   ]
  },
  {
   "cell_type": "code",
   "execution_count": 38,
   "metadata": {},
   "outputs": [
    {
     "name": "stdout",
     "output_type": "stream",
     "text": [
      "2\n",
      "ABCPQR\n",
      "RQP\n",
      "ADGJPRT\n",
      "JGDA\n"
     ]
    }
   ],
   "source": [
    "def asci(s):\n",
    "    res = [ord(t)-ord('A') for t in s]\n",
    "    res = list(set(res))\n",
    "    res.sort()\n",
    "    n = len(res)\n",
    "    result = [[res[0]]]\n",
    "    length = [1]\n",
    "    for i in range(n):\n",
    "        if n-i<length[0]:\n",
    "            break\n",
    "        for j in range(i+1, n):\n",
    "            if n-j+1<length[0]:\n",
    "                break\n",
    "            l = [res[i]]\n",
    "            diff = res[j] - res[i]\n",
    "            tmp = 1\n",
    "            while True:\n",
    "                if res[i]+diff*tmp in res:\n",
    "                    l.append(res[i]+diff*tmp)\n",
    "                    tmp+=1\n",
    "                else:\n",
    "                    if len(l)>length[0]:\n",
    "                        length = []\n",
    "                        length.append(len(l))\n",
    "                        result = []\n",
    "                        result.append(l)\n",
    "                    elif len(l) == length[0]:\n",
    "                        length.append(len(l))\n",
    "                        result.append(l)\n",
    "                    break\n",
    "    result.sort(key=lambda x: sum(x), reverse=True)\n",
    "    a = result[0]\n",
    "    a = [chr(ord('A') + t) for t in a]\n",
    "    a = \"\".join(a)\n",
    "    a = a[::-1]\n",
    "    return a\n",
    "\n",
    "T = int(input())\n",
    "for t in range(T):\n",
    "    s = input()\n",
    "    print(asci(s))"
   ]
  },
  {
   "cell_type": "markdown",
   "metadata": {},
   "source": [
    "# 素数和问题"
   ]
  },
  {
   "cell_type": "code",
   "execution_count": 1,
   "metadata": {},
   "outputs": [
    {
     "name": "stdout",
     "output_type": "stream",
     "text": [
      "5\n",
      "74\n",
      "3 71\n",
      "1024\n",
      "3 1021\n",
      "6\n",
      "3 3\n",
      "66\n",
      "5 61\n",
      "9990\n",
      "17 9973\n"
     ]
    }
   ],
   "source": [
    "def isPrime(t):\n",
    "    i = 2\n",
    "    while i*i <= t:\n",
    "        if t %i ==0:\n",
    "            return False\n",
    "        i = i + 1\n",
    "    return True\n",
    "\n",
    "T = int(input())\n",
    "for t in range(T):\n",
    "    n = int(input())\n",
    "    for i in range(2, n):\n",
    "        if isPrime(i) and isPrime(n-i):\n",
    "            print(i, n-i)\n",
    "            break"
   ]
  },
  {
   "cell_type": "markdown",
   "metadata": {},
   "source": [
    "# 能否成环 \n",
    "## 注意\n",
    "1. 单个元素也能成环\n",
    "2. 终止条件是所有元素都遍历到，如果没有都遍历到，一定不能成环\n",
    "3. 全部遍历后，判断一下"
   ]
  },
  {
   "cell_type": "code",
   "execution_count": 16,
   "metadata": {},
   "outputs": [
    {
     "name": "stdout",
     "output_type": "stream",
     "text": [
      "2\n",
      "3\n",
      "abc bcd cdf\n",
      "0\n",
      "4\n",
      "ab bc cd da\n",
      "1\n"
     ]
    }
   ],
   "source": [
    "def isCircle(s, jiyi):\n",
    "    # 终止条件\n",
    "    global flag\n",
    "    if len(jiyi) == n:\n",
    "        if l[jiyi[-1]][-1] == l[jiyi[0]][0]:\n",
    "            flag = 1\n",
    "    for i in range(n):\n",
    "        if i not in jiyi and l[s][-1] == l[i][0]:\n",
    "            isCircle(i, jiyi+[i])\n",
    "T = int(input())\n",
    "for t in range(T):\n",
    "    n = int(input())\n",
    "    l = input().split()\n",
    "    if n == 1:\n",
    "        word = l[0]\n",
    "        if word[0]==word[-1]:\n",
    "            print(1)\n",
    "        else:\n",
    "            print(0)\n",
    "    else:\n",
    "        flag = 0\n",
    "        isCircle(0, [0])\n",
    "        print(flag)\n"
   ]
  },
  {
   "cell_type": "code",
   "execution_count": 6,
   "metadata": {},
   "outputs": [
    {
     "data": {
      "text/plain": [
       "[0, 2]"
      ]
     },
     "execution_count": 6,
     "metadata": {},
     "output_type": "execute_result"
    }
   ],
   "source": [
    "result"
   ]
  },
  {
   "cell_type": "markdown",
   "metadata": {},
   "source": [
    "# 是否能通过考试(0 1 背包)"
   ]
  },
  {
   "cell_type": "code",
   "execution_count": 46,
   "metadata": {},
   "outputs": [
    {
     "name": "stdout",
     "output_type": "stream",
     "text": [
      "1\n",
      "5 40 21\n",
      "12 10\n",
      "16 10\n",
      "20 10\n",
      "24 10\n",
      "8 3\n",
      "YES 36\n"
     ]
    }
   ],
   "source": [
    "T = int(input())\n",
    "for t in range(T):\n",
    "    n, h, p = list(map(int, input().split()))\n",
    "    hours = []\n",
    "    points = []\n",
    "    for nn in range(n):\n",
    "        H, P = list(map(int, input().split()))\n",
    "        hours.append(H)\n",
    "        points.append(P)\n",
    "    dp = [0]*(h+1)\n",
    "    for i in range(n):\n",
    "        for j in range(h, -1, -1):\n",
    "            if j-hours[i]>=0:\n",
    "                dp[j] = max(dp[j], dp[j-hours[i]] + points[i])\n",
    "    if dp[h]>=p:\n",
    "        while h:\n",
    "            if dp[h]>=p:\n",
    "                h = h -1\n",
    "            else:\n",
    "                break\n",
    "        print(\"YES\", h+1)\n",
    "    else:\n",
    "        print(\"NO\")"
   ]
  },
  {
   "cell_type": "markdown",
   "metadata": {},
   "source": [
    "# 数组和窗口"
   ]
  },
  {
   "cell_type": "code",
   "execution_count": 61,
   "metadata": {},
   "outputs": [
    {
     "name": "stdout",
     "output_type": "stream",
     "text": [
      "1\n",
      "4 3 5 4 3 3 6 7\n",
      "3\n",
      "[4, 3, 5]\n",
      "[3, 5, 4]\n",
      "[5, 4, 3]\n",
      "[4, 3, 3]\n",
      "[3, 3, 6]\n",
      "[3, 6, 7]\n",
      "32\n"
     ]
    }
   ],
   "source": [
    "def maxwin(l, k):\n",
    "    s = 0\n",
    "    for i in range(len(l)-k+1):\n",
    "        s += max(l[i:i+k])\n",
    "    return s\n",
    "T = int(input())\n",
    "for t in range(T):\n",
    "    l = list(map(int, input().split()))\n",
    "    k = int(input())\n",
    "    print(maxwin(l, k))"
   ]
  },
  {
   "cell_type": "markdown",
   "metadata": {},
   "source": [
    "# 子数组的取值范围\n",
    "## Description\n",
    "\n",
    "给定数组arr和整数num，求arr的连续子数组中满足：其最大值减去最小值的结果大于num的个数。请实现一个时间复杂度为O(length(arr))的算法。\n",
    "\n",
    "\n",
    "## Input\n",
    "\n",
    "输入第一行为测试用例个数。每一个用例有若干行，第一行为数组，每一个数用空格隔开，第二行为num。\n",
    "\n",
    "\n",
    "## Output\n",
    "\n",
    "输出一个值。"
   ]
  },
  {
   "cell_type": "code",
   "execution_count": 63,
   "metadata": {},
   "outputs": [
    {
     "name": "stdout",
     "output_type": "stream",
     "text": [
      "1\n",
      "3 6 4 3 2\n",
      "2\n",
      "6\n"
     ]
    }
   ],
   "source": [
    "def count(arr, k):\n",
    "    n = len(arr)\n",
    "    cnt = 0\n",
    "    for i in range(n-1):\n",
    "        for j in range(i+1, n):\n",
    "            if max(arr[i:j+1]) - min(arr[i:j+1])>k:\n",
    "                cnt += 1\n",
    "    return cnt\n",
    "\n",
    "T = int(input())\n",
    "for t in range(T):\n",
    "    arr = list(map(int, input().split()))\n",
    "    k = int(input())\n",
    "    print(count(arr, k))\n",
    "\n",
    "                \n",
    "                "
   ]
  },
  {
   "cell_type": "markdown",
   "metadata": {},
   "source": [
    "# 无重复字符子集问题\n",
    "## Description\n",
    "\n",
    "Mike is a lawyer with the gift of photographic memory. He is so good with it that he can tell you all the numbers on a sheet of paper by having a look at it without any mistake. Mike is also brilliant with subsets so he thought of giving a challange based on his skill and knowledge to Rachael. Mike knows how many subset are possible in an array of N integers. The subsets may or may not have the different sum. The challenge is to find the maximum sum produced by any subset under the condition:\n",
    "\n",
    "The elements present in the subset should not have any digit in common.\n",
    "\n",
    "Note: Subset {12, 36, 45} does not have any digit in common and Subset {12, 22, 35} have digits in common.Rachael find it difficult to win the challenge and is asking your help. Can youhelp her out in winning this challenge?\n",
    "\n",
    "\n",
    "## Input\n",
    "\n",
    "First Line of the input consist of an integer T denoting the number of test cases. Then T test cases follow. Each test case consist of a numbe N denoting the length of the array. Second line of each test case consist of N space separated integers denoting the array elements.\n",
    "\n",
    "Constraints:\n",
    "\n",
    "1 <= T <= 100\n",
    "\n",
    "1 <= N <= 100\n",
    "\n",
    "1 <= array elements <= 100000\n",
    "\n",
    "\n",
    "## Output\n",
    "\n",
    "Corresponding to each test case, print output in the new line."
   ]
  },
  {
   "cell_type": "code",
   "execution_count": 72,
   "metadata": {},
   "outputs": [
    {
     "name": "stdout",
     "output_type": "stream",
     "text": [
      "1\n",
      "3\n",
      "12 22 35\n",
      "57\n"
     ]
    }
   ],
   "source": [
    "def subset(st, l, digits, jiyi):\n",
    "    global s\n",
    "    s = max(s, sum(jiyi))\n",
    "    for t in l:\n",
    "        if t not in jiyi:\n",
    "            one = str(t)\n",
    "            flag = 0\n",
    "            for char in one:\n",
    "                if char in digits:\n",
    "                    flag = 1\n",
    "            one = [t for t in one]\n",
    "            if flag == 0:\n",
    "                subset(t, l, digits+one, jiyi+[t])\n",
    "                \n",
    "T  = int(input())\n",
    "for t in range(T):\n",
    "    n = int(input())\n",
    "    l = list(map(int, input().split()))\n",
    "    s = 0\n",
    "    for ele in l:\n",
    "        one = str(ele)\n",
    "        one = [str(i) for i in one]\n",
    "        subset(ele, l, one, [ele])as\n",
    "    print(s)"
   ]
  },
  {
   "cell_type": "markdown",
   "metadata": {},
   "source": [
    "# 矩阵计算 找规律"
   ]
  },
  {
   "cell_type": "code",
   "execution_count": 1,
   "metadata": {},
   "outputs": [
    {
     "name": "stdout",
     "output_type": "stream",
     "text": [
      "0 0\n",
      "1 0\n",
      "2 1\n",
      "3 1\n",
      "4 1\n",
      "5 0\n",
      "6 1\n",
      "7 0\n",
      "8 0\n",
      "9 1\n",
      "10 1\n",
      "11 1\n",
      "12 0\n",
      "13 1\n",
      "14 0\n",
      "15 0\n",
      "16 1\n",
      "17 1\n",
      "18 1\n",
      "19 0\n",
      "20 1\n",
      "21 0\n",
      "22 0\n",
      "23 1\n",
      "24 1\n",
      "25 1\n",
      "26 0\n",
      "27 1\n",
      "28 0\n",
      "29 0\n",
      "30 1\n",
      "31 1\n",
      "32 1\n",
      "33 0\n",
      "34 1\n",
      "35 0\n",
      "36 0\n",
      "37 1\n",
      "38 1\n",
      "39 1\n",
      "40 0\n",
      "41 1\n",
      "42 0\n",
      "43 0\n",
      "44 1\n",
      "45 1\n",
      "46 1\n",
      "47 0\n",
      "48 1\n",
      "49 0\n",
      "50 0\n",
      "51 1\n",
      "52 1\n",
      "53 1\n",
      "54 0\n",
      "55 1\n",
      "56 0\n",
      "57 0\n",
      "58 1\n",
      "59 1\n",
      "60 1\n",
      "61 0\n",
      "62 1\n",
      "63 0\n",
      "64 0\n"
     ]
    }
   ],
   "source": [
    "d = {}\n",
    "d[0] = 2\n",
    "d[1] = 0\n",
    "d[2] = 1\n",
    "d[3] = 7\n",
    "\n",
    "\n",
    "def getC(n):\n",
    "    for i in range(4, (n*n)**3+1):\n",
    "        d[i] = 3*d[i-1] + 4*d[i-2] + 5*d[i-3] + 6*d[i-4]\n",
    "getC(2)\n",
    "for i in d:\n",
    "    print(i, d[i]%2)"
   ]
  },
  {
   "cell_type": "code",
   "execution_count": null,
   "metadata": {},
   "outputs": [],
   "source": [
    "l = [0,0,1,1,1,0,1]\n",
    "def count(n):\n",
    "    cnt = 0\n",
    "    for i in range(1, n+1):\n",
    "        for j in range(1, n+1):\n",
    "            t = ((i*j%7)**3)%7\n",
    "            if l[t] == 1:\n",
    "                cnt += 1\n",
    "    return cnt\n",
    "T = int(input())\n",
    "for t in range(T):\n",
    "    n = int(input())\n",
    "    print(count(n))"
   ]
  },
  {
   "cell_type": "markdown",
   "metadata": {},
   "source": [
    "# 子矩阵问题（重要）\n",
    "## Description\n",
    "\n",
    "给定一个矩形区域，每一个位置上都是1或0，求该矩阵中每一个位置上都是1的最大子矩形区域中的1的个数。\n",
    "\n",
    "\n",
    "## Input\n",
    "\n",
    "输入第一行为测试用例个数。每一个用例有若干行，第一行为矩阵行数n和列数m，下面的n行每一行是用空格隔开的0或1。\n",
    "\n",
    "\n",
    "## Output\n",
    "\n",
    "输出一个数值。"
   ]
  },
  {
   "cell_type": "code",
   "execution_count": 12,
   "metadata": {},
   "outputs": [
    {
     "name": "stdout",
     "output_type": "stream",
     "text": [
      "1\n",
      "3 4\n",
      "1 0 1 1\n",
      "1 1 1 1\n",
      "1 1 1 0\n",
      "[[1, 0, 1, 1], [1, 1, 1, 1], [1, 1, 1, 0]]\n",
      "6\n"
     ]
    }
   ],
   "source": [
    "def getSub(matrix, m, n):\n",
    "    count = [[0]*n for i in range(m)] \n",
    "    for i in range(m):\n",
    "        cnt = 0\n",
    "        for j in range(n):\n",
    "            if matrix[i][j]==1:\n",
    "                cnt+=1\n",
    "                count[i][j] = cnt\n",
    "            else:\n",
    "                cnt = 0\n",
    "                count[i][j] = 0\n",
    "    MAX = -1\n",
    "    for i in range(m):\n",
    "        for j in range(n):\n",
    "            cur = count[i][j]\n",
    "            cnt = 1\n",
    "            for k in range(i-1, -1, -1):\n",
    "                if count[k][j]>=cur:\n",
    "                    cnt+=1\n",
    "            for k in range(i+1, m):\n",
    "                if count[k][j]>=cur:\n",
    "                    cnt+=1\n",
    "            MAX = max(MAX, cnt*cur)\n",
    "                \n",
    "    return MAX\n",
    "\n",
    "T = int(input())\n",
    "for t in range(T):\n",
    "    m, n = list(map(int, input().split()))\n",
    "    matrix = []\n",
    "    for i in range(m):\n",
    "        column = list(map(int, input().split()))\n",
    "        matrix.append(column)\n",
    "    print(getSub(matrix, m, n))"
   ]
  },
  {
   "cell_type": "markdown",
   "metadata": {},
   "source": [
    "# $\\color{red}{最小化初始点}$\n",
    "\n",
    "## Description\n",
    "\n",
    "Given a grid with each cell consisting of positive, negative or no points i.e, zero points. We can move across a cell only if we have positive points ( > 0 ). Whenever we pass through a cell, points in that cell are added to our overall points. We need to find minimum initial points to reach cell (m-1, n-1) from (0, 0) by following these certain set of rules :\n",
    "\n",
    "1.From a cell (i, j) we can move to (i+1, j) or (i, j+1).\n",
    "\n",
    "2.We cannot move from (i, j) if your overall points at (i, j) is <= 0.\n",
    "\n",
    "3.We have to reach at (n-1, m-1) with minimum positive points i.e., > 0.\n",
    "\n",
    "\n",
    "## Input\n",
    "\n",
    "The first line contains an integer 'T' denoting the total number of test cases.In each test cases, the first line contains two integer 'R' and 'C' denoting the number of rows and column of array.\n",
    "The second line contains the value of the array i.e the grid, in a single line separated by spaces in row major order.\n",
    "\n",
    "## Constraints:\n",
    "\n",
    "1 ≤ T ≤ 30\n",
    "\n",
    "1 ≤ R,C ≤ 10\n",
    "\n",
    "-30 ≤ A[R][C] ≤ 30\n",
    "\n",
    "Input: points[m][n] = { {-2, -3, 3},\n",
    "{-5, -10, 1},\n",
    "{10, 30, -5}\n",
    "};\n",
    "\n",
    "\n",
    "## Output\n",
    "\n",
    "Print the minimum initial points to reach the bottom right most cell in a separate line.\n",
    "\n",
    "7\n",
    "\n",
    "## Explanation:\n",
    "7 is the minimum value to reach destination with\n",
    "positive throughout the path. Below is the path.\n",
    "\n",
    "(0,0) -> (0,1) -> (0,2) -> (1, 2) -> (2, 2)\n",
    "\n",
    "We start from (0, 0) with 7, we reach(0, 1)\n",
    "with 5, (0, 2) with 2, (1, 2) with 5, (2, 2)with and finally we have 1 point (we needed\n",
    "greater than 0 points at the end)."
   ]
  },
  {
   "cell_type": "code",
   "execution_count": 33,
   "metadata": {},
   "outputs": [
    {
     "name": "stdout",
     "output_type": "stream",
     "text": [
      "1\n",
      "3 3\n",
      "-2 -3 3 -5 -10 1 10 30 -5\n",
      "7\n"
     ]
    }
   ],
   "source": [
    "T = int(input())\n",
    "def dfs(matrix, r, c, jiyi):\n",
    "    global result\n",
    "    if r>=m or c>=n :\n",
    "        return\n",
    "    if r==m-1 and c == n-1:\n",
    "        result.append(jiyi + [matrix[r][c]])\n",
    "    dfs(matrix, r+1, c, jiyi + [matrix[r][c]])\n",
    "    dfs(matrix, r, c+1, jiyi + [matrix[r][c]])\n",
    "\n",
    "for t in range(T):\n",
    "    matrix = []\n",
    "    m, n = list(map(int, input().split()))\n",
    "    l = list(map(int, input().split()))\n",
    "    for i in range(m):\n",
    "        matrix.append(l[i*n:(i+1)*n])\n",
    "    result = []\n",
    "    dfs(matrix, 0, 0, [])\n",
    "    res = []\n",
    "    for ele in result:\n",
    "        l = []\n",
    "        s = 0\n",
    "        for t in ele:\n",
    "            s += t\n",
    "            l.append(s)\n",
    "        res.append(min(l))\n",
    "    res.sort(reverse=True)\n",
    "    print(1-res[0])"
   ]
  },
  {
   "cell_type": "markdown",
   "metadata": {},
   "source": [
    "# 最小交换次数"
   ]
  },
  {
   "cell_type": "code",
   "execution_count": 47,
   "metadata": {},
   "outputs": [
    {
     "name": "stdout",
     "output_type": "stream",
     "text": [
      "2\n",
      "4\n",
      "4 3 2 1\n",
      "2\n",
      "5\n",
      "1 5 4 3 2\n",
      "2\n"
     ]
    }
   ],
   "source": [
    "def count(arr, n):\n",
    "    new_arr = sorted(arr)\n",
    "    cnt = 0\n",
    "    i = 0\n",
    "    while arr!=new_arr and i<n:\n",
    "        index1 = arr.index(new_arr[i])\n",
    "        if index1!=i:\n",
    "            arr[index1], arr[i] = arr[i], arr[index1]\n",
    "            cnt += 1\n",
    "        i+=1\n",
    "    print(cnt)\n",
    "\n",
    "T = int(input())\n",
    "for _ in range(T):\n",
    "    n = int(input())\n",
    "    arr = list(map(int, input().split()))\n",
    "    count(arr, n)"
   ]
  },
  {
   "cell_type": "markdown",
   "metadata": {},
   "source": [
    "# 区间第K最小"
   ]
  },
  {
   "cell_type": "code",
   "execution_count": 49,
   "metadata": {},
   "outputs": [
    {
     "name": "stdout",
     "output_type": "stream",
     "text": [
      "1\n",
      "1 2 3 4 5 6 7\n",
      "3 5\n",
      "2\n",
      "4\n"
     ]
    }
   ],
   "source": [
    "def findk(arr, st,ed, k):\n",
    "    new_arr = arr[st-1:ed]\n",
    "    new_arr.sort()\n",
    "    return new_arr[k-1]\n",
    "T = int(input())\n",
    "for _ in range(T):\n",
    "    l = list(map(int, input().split()))\n",
    "    st, ed = list(map(int, input().split()))\n",
    "    k = int(input())\n",
    "    print(findk(l, st, ed, k))"
   ]
  },
  {
   "cell_type": "markdown",
   "metadata": {},
   "source": [
    "# 固定和的元素对"
   ]
  },
  {
   "cell_type": "code",
   "execution_count": 51,
   "metadata": {},
   "outputs": [
    {
     "name": "stdout",
     "output_type": "stream",
     "text": [
      "1\n",
      "1 2 4 7 11 0 9 15\n",
      "11\n",
      "3\n"
     ]
    }
   ],
   "source": [
    "def pair(arr, k):\n",
    "    n = len(arr)\n",
    "    cnt = 0\n",
    "    for i in range(n-1):\n",
    "        for j in range(i+1, n):\n",
    "            if arr[i] + arr[j] == k:\n",
    "                cnt+=1\n",
    "    print(cnt)\n",
    "T = int(input())\n",
    "for _ in range(T):\n",
    "    l = list(map(int, input().split()))\n",
    "    k = int(input())\n",
    "    pair(l, k)"
   ]
  },
  {
   "cell_type": "markdown",
   "metadata": {},
   "source": [
    "# $\\color{red}{最长公共子序列}$"
   ]
  },
  {
   "cell_type": "code",
   "execution_count": 82,
   "metadata": {},
   "outputs": [
    {
     "name": "stdout",
     "output_type": "stream",
     "text": [
      "1\n",
      "1A2BD3G4H56JK\n",
      "23EFG4I5J6K7\n",
      "23G456K\n",
      "23G45JK\n"
     ]
    }
   ],
   "source": [
    "def lcs(arr1, arr2):\n",
    "    m = len(arr1)\n",
    "    n = len(arr2)\n",
    "    dp = [[0]*(n+1) for i in range(m+1)]\n",
    "    b = [[0]*(n+1) for i in range(m+1)]\n",
    "    for i in range(1, m+1):\n",
    "        for j in range(1, n+1):\n",
    "            if arr1[i-1] == arr2[j-1]:\n",
    "                dp[i][j] = dp[i-1][j-1] + 1\n",
    "                b[i][j] = 3\n",
    "            elif dp[i-1][j] < dp[i][j-1]:\n",
    "                dp[i][j] = dp[i][j-1]\n",
    "                b[i][j] = 1\n",
    "            elif dp[i-1][j] > dp[i][j-1]:\n",
    "                dp[i][j] = dp[i-1][j]\n",
    "                b[i][j] = 2\n",
    "            else:\n",
    "                dp[i][j] = dp[i-1][j]\n",
    "                b[i][j] = 4\n",
    "    return dp, b\n",
    "def dfs(x, y, jiyi):\n",
    "    global result\n",
    "    if x==0 or y == 0:\n",
    "        if jiyi[::-1] not in result:\n",
    "            result.append(jiyi[::-1])\n",
    "        return\n",
    "    if b[x][y] == 3:\n",
    "        dfs(x-1, y-1, jiyi+arr1[x-1])   \n",
    "    if b[x][y] == 1:\n",
    "        dfs(x, y-1, jiyi)\n",
    "    if b[x][y] == 2:\n",
    "        dfs(x-1, y, jiyi)\n",
    "    if b[x][y] == 4:\n",
    "        dfs(x-1, y, jiyi)\n",
    "        dfs(x, y-1, jiyi)\n",
    "T = int(input())\n",
    "for _ in range(T):\n",
    "    arr1 = input()\n",
    "    arr2 = input()\n",
    "    m = len(arr1)\n",
    "    n = len(arr2)\n",
    "    dp, b = lcs(arr1, arr2)\n",
    "    result = []\n",
    "    dfs(m, n, \"\")\n",
    "    result.sort()\n",
    "    print(\"\\n\".join(result))"
   ]
  },
  {
   "cell_type": "markdown",
   "metadata": {},
   "source": [
    "# 链表回文"
   ]
  },
  {
   "cell_type": "code",
   "execution_count": 3,
   "metadata": {},
   "outputs": [
    {
     "name": "stdout",
     "output_type": "stream",
     "text": [
      "4\n",
      "3 1 2 1\n",
      "['1', '2', '1']\n",
      "true\n",
      "3 3 5 3\n",
      "['3', '5', '3']\n",
      "true\n",
      "4 1 2 2 1\n",
      "['1', '2', '2', '1']\n",
      "true\n",
      "6 a b c d c a\n",
      "['a', 'b', 'c', 'd', 'c', 'a']\n",
      "false\n"
     ]
    }
   ],
   "source": [
    "def ishuiwen(arr):\n",
    "    n = len(arr)\n",
    "    mid = n // 2\n",
    "    for i in range(mid):\n",
    "        if arr[i] != arr[n-1-i]:\n",
    "            return False\n",
    "    return True\n",
    "T = int(input())\n",
    "for _ in range(T):\n",
    "    arr1 = input().split()\n",
    "    arr = arr1[1:]\n",
    "    if ishuiwen(arr):\n",
    "        print(\"true\")\n",
    "    else:\n",
    "        print(\"false\")"
   ]
  },
  {
   "cell_type": "markdown",
   "metadata": {},
   "source": [
    "# 交换元素使得数组差最小"
   ]
  },
  {
   "cell_type": "code",
   "execution_count": 6,
   "metadata": {},
   "outputs": [],
   "source": [
    "def pack(arr1, arr2):\n",
    "    arr = arr1 + arr2\n",
    "    n = len(arr1)\n",
    "    dp = [0]*(n+1)\n",
    "    for i in range(len(arr)):\n",
    "        for j in range(n,-1, -1):\n",
    "            dp[j] = max(dp[j], dp[j-1]+arr[i])\n",
    "    print(dp)"
   ]
  },
  {
   "cell_type": "code",
   "execution_count": 7,
   "metadata": {},
   "outputs": [
    {
     "name": "stdout",
     "output_type": "stream",
     "text": [
      "[492, 459, 459, 459, 459, 459, 452]\n"
     ]
    }
   ],
   "source": [
    "arr1 = [100, 99, 98, 1, 2, 3]\n",
    "arr2 = [1, 2, 3, 4, 5, 40]\n",
    "pack(arr1, arr2)"
   ]
  },
  {
   "cell_type": "markdown",
   "metadata": {},
   "source": [
    "# 链表区间逆序"
   ]
  },
  {
   "cell_type": "code",
   "execution_count": 16,
   "metadata": {},
   "outputs": [
    {
     "name": "stdout",
     "output_type": "stream",
     "text": [
      "2\n",
      "8 1 2 3 4 5 6 7 8 3\n",
      "2\n",
      "3 2 1 6 5 4 7 8\n",
      "8 a b c d e f g h 4\n",
      "2\n",
      "d c b a h g f e\n"
     ]
    }
   ],
   "source": [
    "def nixu(arr, k):\n",
    "    n = len(arr)\n",
    "    result = []\n",
    "    for i in range(n//k):\n",
    "        result += arr[i*k:(i+1)*k][::-1]\n",
    "    result+=arr[(n//k)*k:]\n",
    "    return result\n",
    "T = int(input())\n",
    "for _ in range(T):\n",
    "    arr1 = input().split()\n",
    "    arr = arr1[1:-1]\n",
    "    k = int(arr1[-1])\n",
    "    result = nixu(arr, k)\n",
    "    result = [str(t) for t in result]\n",
    "    print(\" \".join(result))"
   ]
  },
  {
   "cell_type": "markdown",
   "metadata": {},
   "source": [
    "# 插入排序"
   ]
  },
  {
   "cell_type": "code",
   "execution_count": 20,
   "metadata": {},
   "outputs": [
    {
     "name": "stdout",
     "output_type": "stream",
     "text": [
      "1\n",
      "13 24 3 56 34 3 78 12 29 49 84 51 9 100\n",
      "3 3 9 12 24 29 34 49 51 56 78 84 100\n"
     ]
    }
   ],
   "source": [
    "T = int(input())\n",
    "for _ in range(T):\n",
    "    arr1 = list(map(int,input().split()))\n",
    "    arr = arr1[1:]\n",
    "    arr.sort()\n",
    "    arr = [str(t) for t in arr]\n",
    "    print(\" \".join(arr))"
   ]
  },
  {
   "cell_type": "markdown",
   "metadata": {},
   "source": [
    "# 冒泡排序、计数排序、非递归快排、合并排序(标准输入判断)"
   ]
  },
  {
   "cell_type": "code",
   "execution_count": 24,
   "metadata": {},
   "outputs": [],
   "source": [
    "import sys\n",
    "while True:\n",
    "    inp = sys.stdin.readline()\n",
    "    if not inp:\n",
    "        break\n",
    "    l = list(map(int, inp.split()))\n",
    "    arr = l[1:]\n",
    "    arr.sort()\n",
    "    arr = [str(t) for t in arr]\n",
    "    print(\" \".join(arr))"
   ]
  },
  {
   "cell_type": "markdown",
   "metadata": {},
   "source": [
    "# 按照要求保留数组元素使得和最大"
   ]
  },
  {
   "cell_type": "code",
   "execution_count": 32,
   "metadata": {},
   "outputs": [
    {
     "name": "stdout",
     "output_type": "stream",
     "text": [
      "2\n",
      "3\n",
      "1 2 3\n",
      "4\n",
      "6\n",
      "1 2 2 2 3 4\n",
      "10\n"
     ]
    }
   ],
   "source": [
    "def res(arr):\n",
    "    arr.sort()\n",
    "    s = 0\n",
    "    while len(arr):\n",
    "        n = len(arr)\n",
    "        t = arr[n-1]\n",
    "        s+=t\n",
    "        if t-1 in arr:\n",
    "            arr.remove(t-1)\n",
    "            arr.remove(t)\n",
    "        else:\n",
    "            arr.remove(t)\n",
    "    print(s)\n",
    "T = int(input())\n",
    "for _ in range(T):\n",
    "    n = int(input())\n",
    "    arr1 = list(map(int,input().split()))  \n",
    "    res(arr1)"
   ]
  },
  {
   "cell_type": "markdown",
   "metadata": {},
   "source": [
    "# 如何花最少的钱购买蔬菜\n",
    "1. 动态规划\n",
    "2. 需注意列为3而不是n，三种蔬菜三列"
   ]
  },
  {
   "cell_type": "code",
   "execution_count": 35,
   "metadata": {},
   "outputs": [
    {
     "name": "stdout",
     "output_type": "stream",
     "text": [
      "1\n",
      "3\n",
      "1 50 50\n",
      "50 50 50\n",
      "1 50 50\n",
      "[[1, 50, 50], [100, 51, 51], [52, 101, 101]]\n"
     ]
    }
   ],
   "source": [
    "def veget(matrix, n):\n",
    "    dp = [[0]*(3) for i in range(n)]\n",
    "    for i in range(3):\n",
    "        dp[0][i] = matrix[0][i]\n",
    "    for i in range(1, n):\n",
    "        for j in range(3):\n",
    "            tmp = []\n",
    "            for k in range(j):\n",
    "                tmp.append(dp[i-1][k])\n",
    "            for k in range(j+1,3):\n",
    "                tmp.append(dp[i-1][k])\n",
    "            dp[i][j] = matrix[i][j] + min(tmp)\n",
    "    print(min(dp[n-1]))\n",
    "T = int(input())\n",
    "for _ in range(T):\n",
    "    n = int(input())\n",
    "    matrix = []\n",
    "    for r in range(n):\n",
    "        arr1 = list(map(int,input().split())) \n",
    "        matrix.append(arr1)\n",
    "    veget(matrix, n)"
   ]
  },
  {
   "cell_type": "markdown",
   "metadata": {},
   "source": [
    "# 有九个因数的数"
   ]
  },
  {
   "cell_type": "code",
   "execution_count": 4,
   "metadata": {},
   "outputs": [
    {
     "data": {
      "text/plain": [
       "2.0"
      ]
     },
     "execution_count": 4,
     "metadata": {},
     "output_type": "execute_result"
    }
   ],
   "source": [
    "def getPrime():\n",
    "    n = 10**6\n",
    "    Prime = [True for i in range(n+1)]\n",
    "    p = 2\n",
    "    while p*p <= n:\n",
    "        if Prime[p] == True:\n",
    "            for i in range(2*p, n+1, p):\n",
    "                Prime[i] = False\n",
    "        p = p + 1\n",
    "    primelist = []\n",
    "    for i in range(2, n+1):\n",
    "        if Prime[i]:\n",
    "            primelist.append(i)\n",
    "    return primelist\n",
    "primelist = getPrime()\n",
    "N = len(primelist)\n",
    "T = int(input())\n",
    "for _ in range(T):\n",
    "    n = int(input())\n",
    "    cnt = 0\n",
    "    for i in range(N-1):\n",
    "        j = i+1\n",
    "        while ((primelist[j] * primelist[i])**2)<n and j<N:\n",
    "            cnt = cnt + 1\n",
    "            j = j + 1\n",
    "        \n",
    "    print(cnt)"
   ]
  },
  {
   "cell_type": "markdown",
   "metadata": {},
   "source": [
    "# 硬币最小数量(贪心)\n",
    "## Description\n",
    "\n",
    "Given the list of coins of distinct denominations and total amount of money. Output the minimum number of coins required to make up that amount. Output -1 if that money cannot be made up using given coins. You may assume that there are infinite numbers of coins of each type.\n",
    "\n",
    "\n",
    "## Input\n",
    "\n",
    "The first line contains 'T' denoting the number of test cases. Then follows description of test cases. Each cases begins with the two space separated integers 'n' and 'amount' denoting the total number of distinct coins and total amount of money respectively. The second line contains N space-separated integers A1, A2, ..., AN denoting the values of coins. \n",
    "\n",
    "Constraints:1<=T<=30，1<=n<=100，1<=Ai<=1000，1<=amount<=100000\n",
    "\n",
    "\n",
    "## Output\n",
    "\n",
    "Print the minimum number of coins required to make up that amount or return -1 if it is impossible to make that amount using given coins."
   ]
  },
  {
   "cell_type": "code",
   "execution_count": 10,
   "metadata": {},
   "outputs": [
    {
     "name": "stdout",
     "output_type": "stream",
     "text": [
      "2\n",
      "3 11\n",
      "1 2 4\n",
      "4\n",
      "3 11\n",
      "1 2 5\n",
      "3\n"
     ]
    }
   ],
   "source": [
    "def tanlan(arr, k):\n",
    "    arr.sort(reverse=True)\n",
    "    cnt = 0\n",
    "    i = 0\n",
    "    n = len(arr)\n",
    "    while i<n:\n",
    "        cnt += 1\n",
    "        k-=arr[i]\n",
    "        if k==0:\n",
    "            break\n",
    "        elif k<0:\n",
    "            k+=arr[i]\n",
    "            cnt -= 1\n",
    "            i = i+1\n",
    "    if k!=0:\n",
    "        print(-1)\n",
    "    else:\n",
    "        print(cnt)\n",
    "T = int(input())\n",
    "for _ in range(T):\n",
    "    n, k = list(map(int, input().split()))\n",
    "    l = list(map(int, input().split()))\n",
    "    tanlan(l, k)"
   ]
  },
  {
   "cell_type": "markdown",
   "metadata": {},
   "source": [
    "# 时间分隔(贪心 对离开时间排序 算比它小的到达时间的数目的最大值)\n",
    "## Description\n",
    "\n",
    "Given arrival and departure times of all trains that reach a railway station. Your task is to find the minimum number of platforms required for the railway station so that no train waits. \n",
    "\n",
    "Note: Consider that all the trains arrive on the same day and leave on the same day. Also, arrival and departure times must not be same for a train.\n",
    "\n",
    "\n",
    "## Input\n",
    "\n",
    "The first line of input contains T, the number of test cases. For each test case, first line will contain an integer N, the number of trains. Next two lines will consist of N space separated time intervals denoting arrival and departure times respectively. \n",
    "\n",
    "Note: Time intervals are in the 24-hourformat(hhmm), preceding zeros are insignificant. 200 means 2:00.\n",
    "Consider the example for better understanding of input.\n",
    "\n",
    "Constraints:1 <= T <= 100，1 <= N <= 1000，1 <= A[i] < D[i] <= 2359\n",
    "\n",
    "\n",
    "## Output\n",
    "For each test case, print the minimum number of platforms required for the trains to arrive and depart safely.\n",
    "\n"
   ]
  },
  {
   "cell_type": "code",
   "execution_count": 12,
   "metadata": {},
   "outputs": [
    {
     "name": "stdout",
     "output_type": "stream",
     "text": [
      "1\n",
      "6\n",
      "900  940 950  1100 1500 1800\n",
      "910 1200 1120 1130 1900 2000\n",
      "3\n"
     ]
    }
   ],
   "source": [
    "def timeschedule(time, n):\n",
    "    time.sort(key=lambda t: t[1])\n",
    "    m = 0\n",
    "    for i in range(n-1):\n",
    "        cnt = 0\n",
    "        for j in range(i, n):\n",
    "            if time[j][0]<time[i][1]:\n",
    "                cnt += 1\n",
    "        m = max(m, cnt)\n",
    "    print(m)\n",
    "T = int(input())\n",
    "for _ in range(T):\n",
    "    n = int(input())\n",
    "    time = []\n",
    "    arr = list(map(int, input().split()))\n",
    "    dep = list(map(int, input().split()))\n",
    "    time = list(zip(arr, dep))\n",
    "    timeschedule(time, n)\n",
    "    "
   ]
  },
  {
   "cell_type": "markdown",
   "metadata": {},
   "source": [
    "# 时间与收益(贪心)\n",
    "## Description\n",
    "\n",
    "Given a set of n jobs where each job i has a deadline and profit associated to it. Each job takes 1 unit of time to complete and only one job can be scheduled at a time. We earn the profit if and only if the job is completed by its deadline. The task is to find the maximum profit and the number of jobs done.\n",
    "\n",
    "\n",
    "## Input\n",
    "\n",
    "The first line of input contains an integer T denoting the number of test cases.Each test case consist of an integer N denoting the number of jobs and the next line consist of Job id, Deadline and the Profit associated to that Job.\n",
    "\n",
    "Constraints:1<=T<=100，1<=N<=100，1<=Deadline<=100，1<=Profit<=500\n",
    "\n",
    "\n",
    "## Output\n",
    "\n",
    "Output the number of jobs done and the maximum profit."
   ]
  },
  {
   "cell_type": "code",
   "execution_count": 30,
   "metadata": {},
   "outputs": [
    {
     "name": "stdout",
     "output_type": "stream",
     "text": [
      "2\n",
      "4\n",
      "1 4 20 2 1 10 3 1 40 4 1 30\n",
      "2 60\n",
      "5\n",
      "1 2 100 2 1 19 3 2 27 4 1 25 5 1 15\n",
      "2 127\n"
     ]
    }
   ],
   "source": [
    "from collections import defaultdict\n",
    "T = int(input())\n",
    "for _ in range(T):\n",
    "    n = int(input())\n",
    "    job = defaultdict(list)\n",
    "    arr = list(map(int, input().split()))\n",
    "    maxdeadline = 0\n",
    "    for i in range(n):\n",
    "        deadline = arr[i*3 + 1]\n",
    "        profit = arr[i*3 + 2]\n",
    "        maxdeadline = max(maxdeadline, deadline)\n",
    "        job[deadline].append(profit)\n",
    "    i = maxdeadline\n",
    "    cnt = 0\n",
    "    res = 0\n",
    "    while i>=1:\n",
    "        if len(job[i])>0:\n",
    "            t = max(job[i])\n",
    "            res += t\n",
    "            cnt += 1\n",
    "            job[i].remove(t)\n",
    "            job[i-1] += job[i]\n",
    "        i = i -1\n",
    "    print(cnt, res)"
   ]
  },
  {
   "cell_type": "markdown",
   "metadata": {},
   "source": [
    "# 管道网络(输出测试用例)"
   ]
  },
  {
   "cell_type": "code",
   "execution_count": 31,
   "metadata": {},
   "outputs": [
    {
     "name": "stdout",
     "output_type": "stream",
     "text": [
      "1\n",
      "9 6\n",
      "7 4 98\n",
      "5 9 72\n",
      "4 6 10\n",
      "2 8 22\n",
      "9 7 17\n",
      "3 1 66\n",
      "3\n",
      "2 8 22\n",
      "3 1 66\n",
      "5 6 10\n"
     ]
    }
   ],
   "source": [
    "from collections import deque\n",
    "\n",
    "# This class represents a directed graph using\n",
    "# adjacency list representation\n",
    "class Graph:\n",
    "\n",
    "    # Constructor\n",
    "    def __init__(self, n):\n",
    "        # default dictionary to store graph\n",
    "        self.graph = {}\n",
    "        self.inDegMap = {}\n",
    "        self.pipe = {}\n",
    "        self.d = 0\n",
    "        self.min_pipe = 100\n",
    "        self.result = []\n",
    "        # Initializing adjacent nodes and inDegrees\n",
    "        for i in range(1, n+1):\n",
    "            self.graph[i] = []\n",
    "            self.inDegMap[i] = 0\n",
    "            self.pipe[i] = 100\n",
    "\n",
    "\n",
    "    # function to add an edge to graph\n",
    "    def addEdge(self, u, v):\n",
    "        self.graph[u].append(v)\n",
    "\n",
    "\n",
    "    # Setting up in degrees for all nodes:\n",
    "    def SetUpInDegrees(self):\n",
    "        for i in range(1, len(self.graph)+1):\n",
    "            for j in self.graph[i]:\n",
    "                indeg = self.inDegMap[j] + 1\n",
    "                self.inDegMap[j] = indeg\n",
    "\n",
    "    # Get all zero indegrees:\n",
    "    def GetAllZeroInDegreeNodes(self):\n",
    "        zero = []\n",
    "        for i in range(1, len(self.graph)+1):\n",
    "            if (self.inDegMap[i] == 0 and len(self.graph[i]) > 0):\n",
    "                zero.append(i)\n",
    "        return zero\n",
    "\n",
    "\n",
    "    #Function to do Topological sort using dictionary of Indegrees:\n",
    "    def TopoSort_InDegrees(self):\n",
    "        #print(\"Following is Topological Sort using dictionary of Indegrees\")\n",
    "\n",
    "        zero = self.GetAllZeroInDegreeNodes()\n",
    "        c = 0\n",
    "        self.result.append(len(zero))\n",
    "        for i in zero:\n",
    "            self.min_pipe = 100\n",
    "            c += 1\n",
    "            #print(\"Starting component no: \", c, end='\\n')\n",
    "            self.DFSUtil(i)\n",
    "            #print()\n",
    "            #print(i, ' ', self.d, ' ', self.min_pipe)\n",
    "            self.result.append(str(i) + ' ' + str(self.d) + ' ' + str(self.min_pipe))\n",
    "            #print()\n",
    "        #print(\"Total number of components: \", c)\n",
    "        #print()\n",
    "        #return self.result\n",
    "\n",
    "\n",
    "\n",
    "    # DFS Utility using recursion\n",
    "    def DFSUtil(self, v):\n",
    "\n",
    "        # Mark the current node as visited and print it\n",
    "        #print(str(v)+\" \",end='')\n",
    "        self.d = v\n",
    "\n",
    "        # Recur for all the vertices adjacent to this vertex\n",
    "        for i in self.graph[v]:\n",
    "            self.min_pipe = min(self.min_pipe, self.pipe[v])\n",
    "            self.DFSUtil(i)\n",
    "\n",
    "\n",
    "\n",
    "\n",
    "graph_list = []\n",
    "T = int(input())\n",
    "for i in range(T):\n",
    "    prm = []\n",
    "    points = []\n",
    "    prm = list(map(int, input().split()))\n",
    "    n = prm[0]\n",
    "    p = prm[1]\n",
    "\n",
    "    g = Graph(n)\n",
    "\n",
    "    for j in range(p):\n",
    "        nums = []\n",
    "        nums = list(map(int, input().split()))\n",
    "        g.addEdge(nums[0], nums[1])\n",
    "        g.pipe[nums[0]] = nums[2]\n",
    "\n",
    "    g.SetUpInDegrees()\n",
    "    res = g.TopoSort_InDegrees()\n",
    "    graph_list.append(g)\n",
    "\n",
    "\n",
    "for i in range(T):\n",
    "    for j in graph_list[i].result:\n",
    "        print(j, end='\\n')\n"
   ]
  },
  {
   "cell_type": "code",
   "execution_count": 32,
   "metadata": {},
   "outputs": [
    {
     "name": "stdout",
     "output_type": "stream",
     "text": [
      "3\n",
      "2 8\n",
      "3 1\n",
      "5 6\n"
     ]
    }
   ],
   "source": [
    "print(3)\n",
    "print(2, 8, 22)\n",
    "print(3, 1, 66)\n",
    "print(5, 6, 10)"
   ]
  },
  {
   "cell_type": "code",
   "execution_count": 50,
   "metadata": {},
   "outputs": [
    {
     "data": {
      "text/plain": [
       "0.9709505944546686"
      ]
     },
     "execution_count": 50,
     "metadata": {},
     "output_type": "execute_result"
    }
   ],
   "source": [
    "from math import log2\n",
    "def I(n, p):\n",
    "    t1 = n/(n+p)\n",
    "    t2 = p/(n+p)\n",
    "    if n==0:\n",
    "        return -1*t2*log2(t2)\n",
    "    elif p == 0:\n",
    "        return -1*t1*log2(t1)\n",
    "    else:\n",
    "        return -1*(t1*log2(t1) + t2*log2(t2))\n",
    "I(2,3)"
   ]
  },
  {
   "cell_type": "code",
   "execution_count": 83,
   "metadata": {},
   "outputs": [],
   "source": [
    "from math import log2\n",
    "def I(n, p, q):\n",
    "    t1 = n/(n+p+q)\n",
    "    t2 = p/(n+p+q)\n",
    "    t3 = q/(n+p+q)\n",
    "    if t1==0:\n",
    "        x1 = 0\n",
    "    else:\n",
    "        x1 = t1*log2(t1)\n",
    "    if t2==0:\n",
    "        x2 = 0\n",
    "    else:\n",
    "        x2 = t2*log2(t2)\n",
    "    if t3==0:\n",
    "        x3 = 0\n",
    "    else:\n",
    "        x3 = t3*log2(t3)\n",
    "    return -1*(x1+x2+x3)"
   ]
  },
  {
   "cell_type": "markdown",
   "metadata": {},
   "source": [
    "# 实现Shell排序"
   ]
  },
  {
   "cell_type": "code",
   "execution_count": 13,
   "metadata": {},
   "outputs": [
    {
     "name": "stdout",
     "output_type": "stream",
     "text": [
      "1\n",
      "49 38 65 97 76 13 27 49 55 4\n",
      "5 3\n",
      "13 4 49 38 27 49 55 65 97 76\n"
     ]
    }
   ],
   "source": [
    "def shell(arr, k):\n",
    "    n = len(arr)\n",
    "    for i in range(1, n):\n",
    "        j = i-k\n",
    "        key = arr[i]\n",
    "        while arr[j]>key and j>=0:\n",
    "            arr[j+k] = arr[j]\n",
    "            j = j - k\n",
    "        arr[j+k] = key\n",
    "    return arr\n",
    "T = int(input())\n",
    "for _ in range(T):\n",
    "    arr = list(map(int, input().split()))\n",
    "    k = list(map(int, input().split()))\n",
    "    for t in k:\n",
    "        arr = shell(arr, t)\n",
    "    arr = [str(t) for t in arr]\n",
    "    print(\" \".join(arr))\n",
    "        "
   ]
  },
  {
   "cell_type": "markdown",
   "metadata": {},
   "source": [
    "# 格子里的数（DFS遍历最小路径 可以回头）"
   ]
  },
  {
   "cell_type": "code",
   "execution_count": null,
   "metadata": {},
   "outputs": [],
   "source": [
    "def dfs(matrix, x, y, n, count, jiyi):\n",
    "    global result\n",
    "    if x<0 or x>=n or y<0 or y>=n:\n",
    "        return\n",
    "    if x==n-1 and y==n-1:\n",
    "        result = min(result, count)\n",
    "        return\n",
    "    t = matrix[x][y]\n",
    "    if (x,y) not in jiyi:\n",
    "        dfs(matrix, x+1, y, n, count+t, jiyi+[(x,y)])\n",
    "        dfs(matrix, x, y+1, n, count+t, jiyi+[(x,y)])\n",
    "        dfs(matrix, x-1, y, n, count+t, jiyi+[(x,y)])\n",
    "        dfs(matrix, x, y-1, n, count+t, jiyi+[(x,y)])\n",
    "\n",
    "\n",
    "\n",
    "T = int(input())\n",
    "for _ in range(T):\n",
    "    result = 10**9\n",
    "    n = int(input())\n",
    "    matrix = []\n",
    "    l = list(map(int, input().split()))\n",
    "    for i in range(n):\n",
    "        matrix.append(l[i*n:(i+1)*n])\n",
    "    dfs(matrix, 0, 0, n, 0, [])\n",
    "    print(result+matrix[n-1][n-1])\n",
    "\n"
   ]
  },
  {
   "cell_type": "markdown",
   "metadata": {},
   "source": [
    "# Searching 4 （二分法）"
   ]
  },
  {
   "cell_type": "code",
   "execution_count": null,
   "metadata": {},
   "outputs": [],
   "source": [
    "def getzero(arr,n):\n",
    "    result = []\n",
    "    for i in range(n-1):\n",
    "        tmpl = arr[i]\n",
    "        tmpr = arr[i+1]\n",
    "        while True:\n",
    "            left = 0\n",
    "            right = 0\n",
    "            tmp = (tmpl + tmpr)/2\n",
    "            for j in range(i+1):\n",
    "                left += 1/(tmp-arr[j])\n",
    "            for j in range(i+1,n):\n",
    "                right += 1/(arr[j]-tmp)\n",
    "            if left -right > 0.00000001:\n",
    "                tmpl = tmp\n",
    "            elif right-left>0.00000001:\n",
    "                tmpr = tmp\n",
    "            else:\n",
    "                break\n",
    "        tmp = round(tmp, 2)\n",
    "        tmp = '%.2f' % tmp\n",
    "        result.append(tmp)\n",
    "        \n",
    "    result = [str(t) for t in result]\n",
    "    print(\" \".join(result))\n",
    "\n",
    "T = int(input())\n",
    "for _ in range(T):\n",
    "    n = int(input())\n",
    "    arr = list(map(int, input().split()))\n",
    "    getzero(arr, n)"
   ]
  },
  {
   "cell_type": "markdown",
   "metadata": {},
   "source": [
    "# 牛的繁殖问题  （矩阵快速幂求解斐波拉契）\n",
    "## Attention\n",
    "Mod 需要取余"
   ]
  },
  {
   "cell_type": "code",
   "execution_count": 2,
   "metadata": {},
   "outputs": [
    {
     "data": {
      "text/plain": [
       "'15.00'"
      ]
     },
     "execution_count": 2,
     "metadata": {},
     "output_type": "execute_result"
    }
   ],
   "source": [
    "mod = 10**9 + 7\n",
    "def mul(a, b):\n",
    "    res = [[0,0],[0,0]]\n",
    "    for i in range(2):\n",
    "        for j in range(2):\n",
    "            for k in range(2):\n",
    "                res[i][j] += a[i][k] * b[k][j] % mod\n",
    "    return res\n",
    "\n",
    "\n",
    "def pow(matrix, n):\n",
    "    ans  = [[1, 0], [0, 1]]\n",
    "    while n:\n",
    "        if n%2==1:\n",
    "            ans = mul(ans, matrix)\n",
    "        matrix = mul(matrix, matrix)\n",
    "        n >>=1\n",
    "    return ans\n",
    "\n",
    "def niu(n):\n",
    "    matrix = [[1,1],[1,0]]\n",
    "    ans = pow(matrix, n-1)\n",
    "    ans = mul(ans, [[1,0],[1,0]])\n",
    "    return ans[0][0] % mod\n"
   ]
  },
  {
   "cell_type": "markdown",
   "metadata": {},
   "source": [
    "# 数组查询 （子数组的最大值 最多删除一个元素）\n",
    "## Attention\n",
    "1. 先获取子数组，在做删除"
   ]
  },
  {
   "cell_type": "code",
   "execution_count": 16,
   "metadata": {},
   "outputs": [
    {
     "data": {
      "text/plain": [
       "7"
      ]
     },
     "execution_count": 16,
     "metadata": {},
     "output_type": "execute_result"
    }
   ],
   "source": [
    "def lianxu(arr, n):\n",
    "    sum = min(arr)\n",
    "    b = 0\n",
    "    for i in range(n):\n",
    "        b+=arr[i]\n",
    "        if b<0:\n",
    "            b-=arr[i]\n",
    "            sum = max(b, sum)\n",
    "            b = 0\n",
    "        else:\n",
    "            sum = max(b, sum)\n",
    "    sum = max(b, sum)\n",
    "    return sum\n",
    "        \n",
    "\n",
    "def chaxun(arr, n):\n",
    "    MAX = lianxu(arr, n)\n",
    "    for i in range(n-1):\n",
    "        tmp = arr[:i] + arr[i+1:]\n",
    "        MAX = max(lianxu(tmp, n-1), MAX)\n",
    "    MAX = max(MAX, lianxu(arr[:-1], n-1))\n",
    "    return MAX\n",
    "\n",
    "T = int(input())\n",
    "for _ in range(T):\n",
    "    n = int(input())\n",
    "    arr = list(map(int, input().split()))\n",
    "    MAX = min(arr)\n",
    "    if n==1:\n",
    "        print(arr[0])\n",
    "    else:\n",
    "        for i in range(n-1):\n",
    "            for j in range(i+1, n):\n",
    "                tmp = arr[i:j+1]\n",
    "                sum_ = sum(tmp)\n",
    "                if min(tmp)<0:\n",
    "                    sum_ -= min(tmp)\n",
    "                MAX = max(MAX, sum_)\n",
    "        print(MAX)\n"
   ]
  },
  {
   "cell_type": "markdown",
   "metadata": {},
   "source": [
    "# 倒置个数\n",
    "1. 暴力\n",
    "2. 归并"
   ]
  },
  {
   "cell_type": "code",
   "execution_count": null,
   "metadata": {},
   "outputs": [],
   "source": [
    "T = int(input())\n",
    "for _ in range(T):\n",
    "    n = int(input())\n",
    "    arr = list(map(int, input().split()))\n",
    "    cnt = 0\n",
    "    for i in range(n-1):\n",
    "        for j in range(i+1, n):\n",
    "            if arr[i]>arr[j]:\n",
    "                cnt += 1\n",
    "    print(cnt)"
   ]
  },
  {
   "cell_type": "code",
   "execution_count": null,
   "metadata": {},
   "outputs": [],
   "source": [
    "def merge(s1, s2, num):\n",
    "    i = 0\n",
    "    j = 0\n",
    "    res = []\n",
    "    while i<len(s1) and j<len(s2):\n",
    "        if s1[i] <=s2[j]:\n",
    "            res.append(s1[i])\n",
    "            i += 1\n",
    "        else:\n",
    "            res.append(s2[j])\n",
    "            num += len(s1) - i\n",
    "            j += 1\n",
    "    if i<len(s1):\n",
    "        res += s1[i:]\n",
    "    if j<len(s2):\n",
    "        res += s2[j:]\n",
    "    return res, num\n",
    "\n",
    "def mergesort(s):\n",
    "    n = len(s)\n",
    "    if n < 2:\n",
    "        return s, 0\n",
    "    mid = n // 2\n",
    "    s1 = s[:mid]\n",
    "    s2 = s[mid:]\n",
    "    s1, n1 = mergesort(s1)\n",
    "    s2, n2 = mergesort(s2)\n",
    "    return merge(s1,s2,n1 + n2)\n",
    "T = int(input())\n",
    "for _ in range(T):\n",
    "    n = int(input())\n",
    "    arr = list(map(int, input().split()))\n",
    "    _, cnt = mergesort(arr)\n",
    "    print(cnt)"
   ]
  },
  {
   "cell_type": "markdown",
   "metadata": {},
   "source": [
    "# 管道问题"
   ]
  },
  {
   "cell_type": "code",
   "execution_count": null,
   "metadata": {},
   "outputs": [],
   "source": [
    "\n",
    "T = int(input())\n",
    "for _ in range(T):\n",
    "    n, p = map(int, input().split())\n",
    "    dia = [[0,0] for i in range(n+1)]\n",
    "    l = list(range(1, n+1))\n",
    "    for _ in range(p):\n",
    "        a, b, d = list(map(int, input().split()))\n",
    "        dia[a] = [b,d]\n",
    "        l.remove(b)\n",
    "    l.sort()\n",
    "    print(len(l))\n",
    "    for b in l:\n",
    "        tmp, d = dia[b]\n",
    "        while dia[tmp][0]:\n",
    "            tmp2, d2 = dia[tmp]\n",
    "            tmp = tmp2\n",
    "            d = min(d, d2)\n",
    "        result = [b, tmp, d]\n",
    "        print(\" \".join(map(str, result)))\n",
    "            "
   ]
  },
  {
   "cell_type": "markdown",
   "metadata": {},
   "source": [
    "# 路上的球"
   ]
  },
  {
   "cell_type": "code",
   "execution_count": null,
   "metadata": {},
   "outputs": [],
   "source": [
    "def ball(arr1, arr2):\n",
    "    comn = set(arr1).intersection(arr2)\n",
    "    cnt = 0\n",
    "    for t in comn:\n",
    "        idx1 = arr1.index(t)\n",
    "        idx2 = arr2.index(t)\n",
    "        tmp1 = arr1[:idx1+1]\n",
    "        tmp2 = arr2[:idx2+1]\n",
    "        cnt += max(sum(tmp1), sum(tmp2))\n",
    "        arr1 = arr1[idx1+1:]\n",
    "        arr2 = arr2[idx2+1:]\n",
    "    cnt += max(sum(arr1), sum(arr2))\n",
    "    return cnt\n",
    "\n",
    "T = int(input())\n",
    "for _ in range(T):\n",
    "    m, n = list(map(int, input().split()))\n",
    "    arr1 = list(map(int, input().split()))\n",
    "    arr2 = list(map(int, input().split()))\n",
    "    print(ball(arr1, arr2))"
   ]
  },
  {
   "cell_type": "markdown",
   "metadata": {},
   "source": [
    "# 订单问题"
   ]
  },
  {
   "cell_type": "code",
   "execution_count": 2,
   "metadata": {},
   "outputs": [
    {
     "data": {
      "text/plain": [
       "[3, 2, 1]"
      ]
     },
     "execution_count": 2,
     "metadata": {},
     "output_type": "execute_result"
    }
   ],
   "source": [
    "def dingdan(arr1, arr2, x, y, n):\n",
    "    diff = [abs(arr1[i] - arr2[i]) for i in range(n)]\n",
    "    index = [i for i in range(n)]\n",
    "    z = list(zip(diff, index))\n",
    "    z.sort()\n",
    "    s = 0\n",
    "    z = [t for _, t in z]\n",
    "    for i in reversed(z):\n",
    "        if arr1[i]>=arr2[i] and x>0:\n",
    "            x-=1\n",
    "            s += arr1[i]\n",
    "        elif arr1[i]>=arr2[i]:\n",
    "            y-=1\n",
    "            s += arr2[i]\n",
    "        elif arr1[i]<arr2[i] and y>0:\n",
    "            y-=1\n",
    "            s += arr2[i]\n",
    "        elif arr1[i] < arr2[i]:\n",
    "            x-=1\n",
    "            s += arr1[i]\n",
    "    return s\n",
    "\n",
    "T = int(input())\n",
    "for _ in range(T):\n",
    "    n, x, y = list(map(int, input().split()))\n",
    "    arr1 = list(map(int, input().split()))\n",
    "    arr2 = list(map(int, input().split()))\n",
    "    print(dingdan(arr1, arr2, x, y, n))"
   ]
  },
  {
   "cell_type": "markdown",
   "metadata": {},
   "source": [
    "# 调整数组使差最小"
   ]
  },
  {
   "cell_type": "code",
   "execution_count": null,
   "metadata": {},
   "outputs": [],
   "source": [
    "from itertools import combinations\n",
    "def solve(arr1, arr2):\n",
    "    arr = arr1 + arr2\n",
    "    half = sum(arr) / 2\n",
    "    n = len(arr) // 2\n",
    "    l = combinations(arr, n)\n",
    "    s = [(sum(t), t) for t in l]\n",
    "    s = [(abs(a - half), b) for a, b in s]\n",
    "    s.sort()\n",
    "    res = abs(2*sum(s[0][1]) - sum(arr))\n",
    "    print(res)\n",
    "\n",
    "T = int(input())\n",
    "for _ in range(T):\n",
    "    arr1 = list(map(int, input().split()))\n",
    "    arr2 = list(map(int, input().split()))\n",
    "    solve(arr1, arr2)\n"
   ]
  }
 ],
 "metadata": {
  "kernelspec": {
   "display_name": "Python 3",
   "language": "python",
   "name": "python3"
  },
  "language_info": {
   "codemirror_mode": {
    "name": "ipython",
    "version": 3
   },
   "file_extension": ".py",
   "mimetype": "text/x-python",
   "name": "python",
   "nbconvert_exporter": "python",
   "pygments_lexer": "ipython3",
   "version": "3.6.7"
  }
 },
 "nbformat": 4,
 "nbformat_minor": 2
}
